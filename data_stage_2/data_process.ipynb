{
 "cells": [
  {
   "cell_type": "code",
   "execution_count": 1,
   "metadata": {},
   "outputs": [
    {
     "name": "stderr",
     "output_type": "stream",
     "text": [
      "c:\\Users\\tomti\\miniconda3\\envs\\qwen\\Lib\\site-packages\\tqdm\\auto.py:21: TqdmWarning: IProgress not found. Please update jupyter and ipywidgets. See https://ipywidgets.readthedocs.io/en/stable/user_install.html\n",
      "  from .autonotebook import tqdm as notebook_tqdm\n",
      "c:\\Users\\tomti\\miniconda3\\envs\\qwen\\Lib\\site-packages\\huggingface_hub\\file_download.py:142: UserWarning: `huggingface_hub` cache-system uses symlinks by default to efficiently store duplicated files but your machine does not support them in C:\\Users\\tomti\\.cache\\huggingface\\hub\\datasets--5CD-AI--Vietnamese-NaturalQA-gg-translated-unrefined. Caching files will still work but in a degraded version that might require more space on your disk. This warning can be disabled by setting the `HF_HUB_DISABLE_SYMLINKS_WARNING` environment variable. For more details, see https://huggingface.co/docs/huggingface_hub/how-to-cache#limitations.\n",
      "To support symlinks on Windows, you either need to activate Developer Mode or to run Python as an administrator. In order to activate developer mode, see this article: https://docs.microsoft.com/en-us/windows/apps/get-started/enable-your-device-for-development\n",
      "  warnings.warn(message)\n"
     ]
    }
   ],
   "source": [
    "from datasets import load_dataset\n",
    "\n",
    "# Stream the dataset (does not download everything at once)\n",
    "dataset = load_dataset(\"5CD-AI/Vietnamese-NaturalQA-gg-translated-unrefined\", split=\"train\", streaming=True)\n",
    "\n",
    "# Take the first 10,000 examples and convert them to a list\n",
    "subset = [example for _, example in zip(range(10_000), dataset)]\n",
    "\n",
    "# (Optional) Save the subset to a JSON file\n",
    "import json\n",
    "with open(\"vietnamese_naturalqa.json\", \"w\", encoding=\"utf-8\") as f:\n",
    "    json.dump(subset, f, ensure_ascii=False, indent=4)\n",
    "\n"
   ]
  },
  {
   "cell_type": "code",
   "execution_count": null,
   "metadata": {},
   "outputs": [],
   "source": [
    "from datasets import load_dataset\n",
    "\n",
    "# Stream the dataset (does not download everything at once)\n",
    "dataset = load_dataset(\"5CD-AI/Vietnamese-Openorca-Multiplechoice-gg-translated\", split=\"train\", streaming=True)\n",
    "\n",
    "# Take the first 10,000 examples and convert them to a list\n",
    "subset = [example for _, example in zip(range(10_000), dataset)]\n",
    "\n",
    "# (Optional) Save the subset to a JSON file\n",
    "import json\n",
    "with open(\"vietnamese_naturalqa.json\", \"w\", encoding=\"utf-8\") as f:\n",
    "    json.dump(subset, f, ensure_ascii=False, indent=4)"
   ]
  }
 ],
 "metadata": {
  "kernelspec": {
   "display_name": "qwen",
   "language": "python",
   "name": "python3"
  },
  "language_info": {
   "codemirror_mode": {
    "name": "ipython",
    "version": 3
   },
   "file_extension": ".py",
   "mimetype": "text/x-python",
   "name": "python",
   "nbconvert_exporter": "python",
   "pygments_lexer": "ipython3",
   "version": "3.12.3"
  }
 },
 "nbformat": 4,
 "nbformat_minor": 2
}
