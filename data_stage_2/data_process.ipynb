{
 "cells": [
  {
   "cell_type": "code",
   "execution_count": 4,
   "metadata": {},
   "outputs": [],
   "source": [
    "from datasets import load_dataset\n",
    "\n",
    "# Stream the dataset (does not download everything at once)\n",
    "dataset = load_dataset(\"5CD-AI/Vietnamese-NaturalQA-gg-translated-unrefined\", split=\"train\", streaming=True)\n",
    "\n",
    "# Take the first 10,000 examples and convert them to a list\n",
    "subset = [example for _, example in zip(range(10_000), dataset)]\n",
    "\n",
    "# (Optional) Save the subset to a JSON file\n",
    "import json\n",
    "with open(\"vietnamese_naturalqa.json\", \"w\", encoding=\"utf-8\") as f:\n",
    "    json.dump(subset, f, ensure_ascii=False, indent=4)\n",
    "\n"
   ]
  },
  {
   "cell_type": "code",
   "execution_count": 5,
   "metadata": {},
   "outputs": [],
   "source": [
    "from datasets import load_dataset\n",
    "\n",
    "# Stream the dataset (does not download everything at once)\n",
    "dataset = load_dataset(\"5CD-AI/Vietnamese-Openorca-Multiplechoice-gg-translated\", split=\"train\", streaming=True)\n",
    "\n",
    "# Take the first 10,000 examples and convert them to a list\n",
    "subset = [example for _, example in zip(range(10_000), dataset)]\n",
    "\n",
    "# (Optional) Save the subset to a JSON file\n",
    "import json\n",
    "with open(\"vietnamese_Openorca-Multiplechoice.json\", \"w\", encoding=\"utf-8\") as f:\n",
    "    json.dump(subset, f, ensure_ascii=False, indent=4)"
   ]
  },
  {
   "cell_type": "code",
   "execution_count": 6,
   "metadata": {},
   "outputs": [],
   "source": [
    "from datasets import load_dataset\n",
    "\n",
    "# Stream the dataset (does not download everything at once)\n",
    "dataset = load_dataset(\"5CD-AI/Vietnamese-microsoft-orca-math-word-problems-200k-gg-translated\", split=\"train\", streaming=True)\n",
    "\n",
    "# Take the first 10,000 examples and convert them to a list\n",
    "subset = [example for _, example in zip(range(10_000), dataset)]\n",
    "\n",
    "# (Optional) Save the subset to a JSON file\n",
    "import json\n",
    "with open(\"vietnamese_orca-math.json\", \"w\", encoding=\"utf-8\") as f:\n",
    "    json.dump(subset, f, ensure_ascii=False, indent=4)"
   ]
  },
  {
   "cell_type": "code",
   "execution_count": null,
   "metadata": {},
   "outputs": [
    {
     "name": "stdout",
     "output_type": "stream",
     "text": [
      "d:\\Qwen-2.5-0.5B-vn\n"
     ]
    },
    {
     "name": "stderr",
     "output_type": "stream",
     "text": [
      "'pwd' is not recognized as an internal or external command,\n",
      "operable program or batch file.\n"
     ]
    }
   ],
   "source": [
    "%cd .."
   ]
  },
  {
   "cell_type": "code",
   "execution_count": 9,
   "metadata": {},
   "outputs": [
    {
     "data": {
      "text/plain": [
       "'d:\\\\Qwen-2.5-0.5B-vn'"
      ]
     },
     "execution_count": 9,
     "metadata": {},
     "output_type": "execute_result"
    }
   ],
   "source": [
    "%pwd"
   ]
  },
  {
   "cell_type": "code",
   "execution_count": 14,
   "metadata": {},
   "outputs": [
    {
     "name": "stdout",
     "output_type": "stream",
     "text": [
      "Successfully wrote 5000 lines to ./data_stage_2/proccessed_data_4_5k.jsonl\n"
     ]
    }
   ],
   "source": [
    "def extract_first_5k_lines(input_file, output_file):\n",
    "    try:\n",
    "        # Open input file for reading and output file for writing\n",
    "        with open(input_file, 'r', encoding='utf-8') as infile, \\\n",
    "             open(output_file, 'w', encoding='utf-8') as outfile:\n",
    "            \n",
    "            # Counter for lines\n",
    "            line_count = 0\n",
    "            \n",
    "            # Read and write first 5000 lines\n",
    "            for line in infile:\n",
    "                if line_count >= 5000:\n",
    "                    break\n",
    "                outfile.write(line)\n",
    "                line_count += 1\n",
    "                \n",
    "        print(f\"Successfully wrote {line_count} lines to {output_file}\")\n",
    "        \n",
    "    except FileNotFoundError:\n",
    "        print(f\"Error: Input file '{input_file}' not found\")\n",
    "    except PermissionError:\n",
    "        print(f\"Error: Permission denied when accessing files\")\n",
    "    except Exception as e:\n",
    "        print(f\"An error occurred: {str(e)}\")\n",
    "\n",
    "# Define file paths\n",
    "input_path = \"./data/proccessed_data_4.jsonl\"\n",
    "output_path = \"./data_stage_2/proccessed_data_4_5k.jsonl\"\n",
    "\n",
    "# Execute the function\n",
    "extract_first_5k_lines(input_path, output_path)\n",
    "               "
   ]
  },
  {
   "cell_type": "code",
   "execution_count": 15,
   "metadata": {},
   "outputs": [
    {
     "name": "stdout",
     "output_type": "stream",
     "text": [
      "Transformation complete. Data saved to './data_stage_2/vietnamese_naturalqa.jsonl'\n"
     ]
    }
   ],
   "source": [
    "import json\n",
    "\n",
    "# Input and output file names\n",
    "input_file = './data_stage_2/vietnamese_naturalqa.json'  # Replace with your actual input JSON file name\n",
    "output_file = './data_stage_2/vietnamese_naturalqa.jsonl'\n",
    "\n",
    "# System message to be used in all entries\n",
    "system_content = \"Bạn là một trợ lý thông minh. Hãy thực hiện các yêu cầu hoặc trả lời câu hỏi một cách tốt nhất có thể.\"\n",
    "\n",
    "try:\n",
    "    # Load the JSON file\n",
    "    with open(input_file, 'r', encoding='utf-8') as json_file:\n",
    "        input_data = json.load(json_file)\n",
    "    \n",
    "    # Open the output JSONL file\n",
    "    with open(output_file, 'w', encoding='utf-8') as outfile:\n",
    "        for item in input_data:\n",
    "            # Create the transformed structure\n",
    "            transformed = {\n",
    "                \"messages\": [\n",
    "                    {\"role\": \"system\", \"content\": system_content},\n",
    "                    {\"role\": \"user\", \"content\": item[\"vi_question\"]},\n",
    "                    {\"role\": \"assistant\", \"content\": item[\"vi_answer\"]}\n",
    "                ]\n",
    "            }\n",
    "            \n",
    "            # Write each transformed item as a JSON line\n",
    "            json.dump(transformed, outfile, ensure_ascii=False)\n",
    "            outfile.write('\\n')\n",
    "    \n",
    "    print(f\"Transformation complete. Data saved to '{output_file}'\")\n",
    "\n",
    "except FileNotFoundError:\n",
    "    print(f\"Error: Input file '{input_file}' not found.\")\n",
    "except json.JSONDecodeError as e:\n",
    "    print(f\"JSON parsing error: {e}\")\n",
    "    with open(input_file, 'r', encoding='utf-8') as json_file:\n",
    "        content = json_file.read()\n",
    "        print(\"Raw file content:\", content)\n",
    "except Exception as e:\n",
    "    print(f\"An unexpected error occurred: {e}\")"
   ]
  },
  {
   "cell_type": "code",
   "execution_count": 16,
   "metadata": {},
   "outputs": [
    {
     "name": "stdout",
     "output_type": "stream",
     "text": [
      "Transformation complete. Data saved to './data_stage_2/vietnamese_Openorca-Multiplechoice.jsonl'\n"
     ]
    }
   ],
   "source": [
    "import json\n",
    "\n",
    "# Input and output file names\n",
    "input_file = './data_stage_2/vietnamese_Openorca-Multiplechoice.json'  # Replace with your actual input JSON file name\n",
    "output_file = './data_stage_2/vietnamese_Openorca-Multiplechoice.jsonl'\n",
    "\n",
    "# System message to be used in all entries\n",
    "system_content = \"Bạn là một trợ lý thông minh. Hãy thực hiện các yêu cầu hoặc trả lời câu hỏi một cách tốt nhất có thể.\"\n",
    "\n",
    "try:\n",
    "    # Load the JSON file\n",
    "    with open(input_file, 'r', encoding='utf-8') as json_file:\n",
    "        input_data = json.load(json_file)\n",
    "    \n",
    "    # Open the output JSONL file\n",
    "    with open(output_file, 'w', encoding='utf-8') as outfile:\n",
    "        for item in input_data:\n",
    "            # Create the transformed structure\n",
    "            transformed = {\n",
    "                \"messages\": [\n",
    "                    {\"role\": \"system\", \"content\": system_content},\n",
    "                    {\"role\": \"user\", \"content\": item[\"question_vi\"]},\n",
    "                    {\"role\": \"assistant\", \"content\": item[\"response_vi\"]}\n",
    "                ]\n",
    "            }\n",
    "            \n",
    "            # Write each transformed item as a JSON line\n",
    "            json.dump(transformed, outfile, ensure_ascii=False)\n",
    "            outfile.write('\\n')\n",
    "    \n",
    "    print(f\"Transformation complete. Data saved to '{output_file}'\")\n",
    "\n",
    "except FileNotFoundError:\n",
    "    print(f\"Error: Input file '{input_file}' not found.\")\n",
    "except json.JSONDecodeError as e:\n",
    "    print(f\"JSON parsing error: {e}\")\n",
    "    with open(input_file, 'r', encoding='utf-8') as json_file:\n",
    "        content = json_file.read()\n",
    "        print(\"Raw file content:\", content)\n",
    "except Exception as e:\n",
    "    print(f\"An unexpected error occurred: {e}\")"
   ]
  },
  {
   "cell_type": "code",
   "execution_count": 17,
   "metadata": {},
   "outputs": [
    {
     "name": "stdout",
     "output_type": "stream",
     "text": [
      "Transformation complete. Data saved to './data_stage_2/vietnamese_orca-math.jsonl'\n"
     ]
    }
   ],
   "source": [
    "import json\n",
    "\n",
    "# Input and output file names\n",
    "input_file = './data_stage_2/vietnamese_orca-math.json'  # Replace with your actual input JSON file name\n",
    "output_file = './data_stage_2/vietnamese_orca-math.jsonl'\n",
    "\n",
    "# System message to be used in all entries\n",
    "system_content = \"Bạn là một trợ lý thông minh. Hãy thực hiện các yêu cầu hoặc trả lời câu hỏi một cách tốt nhất có thể.\"\n",
    "\n",
    "try:\n",
    "    # Load the JSON file\n",
    "    with open(input_file, 'r', encoding='utf-8') as json_file:\n",
    "        input_data = json.load(json_file)\n",
    "    \n",
    "    # Open the output JSONL file\n",
    "    with open(output_file, 'w', encoding='utf-8') as outfile:\n",
    "        for item in input_data:\n",
    "            # Create the transformed structure\n",
    "            transformed = {\n",
    "                \"messages\": [\n",
    "                    {\"role\": \"system\", \"content\": system_content},\n",
    "                    {\"role\": \"user\", \"content\": item[\"question_vi\"]},\n",
    "                    {\"role\": \"assistant\", \"content\": item[\"answer_vi\"]}\n",
    "                ]\n",
    "            }\n",
    "            \n",
    "            # Write each transformed item as a JSON line\n",
    "            json.dump(transformed, outfile, ensure_ascii=False)\n",
    "            outfile.write('\\n')\n",
    "    \n",
    "    print(f\"Transformation complete. Data saved to '{output_file}'\")\n",
    "\n",
    "except FileNotFoundError:\n",
    "    print(f\"Error: Input file '{input_file}' not found.\")\n",
    "except json.JSONDecodeError as e:\n",
    "    print(f\"JSON parsing error: {e}\")\n",
    "    with open(input_file, 'r', encoding='utf-8') as json_file:\n",
    "        content = json_file.read()\n",
    "        print(\"Raw file content:\", content)\n",
    "except Exception as e:\n",
    "    print(f\"An unexpected error occurred: {e}\")"
   ]
  },
  {
   "cell_type": "code",
   "execution_count": null,
   "metadata": {},
   "outputs": [],
   "source": []
  }
 ],
 "metadata": {
  "kernelspec": {
   "display_name": "qwen",
   "language": "python",
   "name": "python3"
  },
  "language_info": {
   "codemirror_mode": {
    "name": "ipython",
    "version": 3
   },
   "file_extension": ".py",
   "mimetype": "text/x-python",
   "name": "python",
   "nbconvert_exporter": "python",
   "pygments_lexer": "ipython3",
   "version": "3.12.3"
  }
 },
 "nbformat": 4,
 "nbformat_minor": 2
}
