{
 "cells": [
  {
   "cell_type": "code",
   "execution_count": null,
   "metadata": {},
   "outputs": [],
   "source": [
    "from datasets import load_dataset\n",
    "\n",
    "# Stream the dataset (does not download everything at once)\n",
    "dataset = load_dataset(\"5CD-AI/Vietnamese-NaturalQA-gg-translated-unrefined\", split=\"train\", streaming=True)\n",
    "\n",
    "# Skip the first 10,000 and take the next 10,000\n",
    "subset = [example for i, example in enumerate(dataset) if 10_000 <= i < 11_000]\n",
    "\n",
    "# Save the subset to a JSON file\n",
    "import json\n",
    "with open(\"vietnamese_naturalqa_10k_11k.json\", \"w\", encoding=\"utf-8\") as f:\n",
    "    json.dump(subset, f, ensure_ascii=False, indent=4)\n"
   ]
  },
  {
   "cell_type": "code",
   "execution_count": 5,
   "metadata": {},
   "outputs": [],
   "source": [
    "from datasets import load_dataset\n",
    "\n",
    "# Stream the dataset (does not download everything at once)\n",
    "dataset = load_dataset(\"5CD-AI/Vietnamese-Openorca-Multiplechoice-gg-translated\", split=\"train\", streaming=True)\n",
    "\n",
    "# Skip the first 10,000 and take the next 10,000\n",
    "subset = [example for i, example in enumerate(dataset) if 9_000 <= i < 10_000]\n",
    "\n",
    "# Save the subset to a JSON file\n",
    "import json\n",
    "with open(\"Vietnamese-Openorca-Multiplechoice_10k_11k.json\", \"w\", encoding=\"utf-8\") as f:\n",
    "    json.dump(subset, f, ensure_ascii=False, indent=4)"
   ]
  },
  {
   "cell_type": "code",
   "execution_count": 6,
   "metadata": {},
   "outputs": [
    {
     "data": {
      "application/vnd.jupyter.widget-view+json": {
       "model_id": "05e49d049ef2445f809973fed0c90796",
       "version_major": 2,
       "version_minor": 0
      },
      "text/plain": [
       "README.md:   0%|          | 0.00/112 [00:00<?, ?B/s]"
      ]
     },
     "metadata": {},
     "output_type": "display_data"
    }
   ],
   "source": [
    "from datasets import load_dataset\n",
    "\n",
    "# Stream the dataset (does not download everything at once)\n",
    "dataset = load_dataset(\"5CD-AI/Vietnamese-microsoft-orca-math-word-problems-200k-gg-translated\", split=\"train\", streaming=True)\n",
    "\n",
    "# Skip the first 10,000 and take the next 10,000\n",
    "subset = [example for i, example in enumerate(dataset) if 10_000 <= i < 11_000]\n",
    "\n",
    "# Save the subset to a JSON file\n",
    "import json\n",
    "with open(\"vietnamese_orca-math_10k_11k.json\", \"w\", encoding=\"utf-8\") as f:\n",
    "    json.dump(subset, f, ensure_ascii=False, indent=4)"
   ]
  },
  {
   "cell_type": "code",
   "execution_count": 8,
   "metadata": {},
   "outputs": [
    {
     "name": "stdout",
     "output_type": "stream",
     "text": [
      "/root/Qwen-2.5-0.5B-vn\n"
     ]
    }
   ],
   "source": [
    "%cd Qwen-2.5-0.5B-vn/"
   ]
  },
  {
   "cell_type": "code",
   "execution_count": 9,
   "metadata": {},
   "outputs": [
    {
     "name": "stdout",
     "output_type": "stream",
     "text": [
      "Transformation complete. Data saved to './data_dpo/vietnamese_naturalqa_10k_11k.jsonl'\n"
     ]
    }
   ],
   "source": [
    "import json\n",
    "\n",
    "# Input and output file names\n",
    "input_file = './data_dpo/vietnamese_naturalqa_10k_11k.json'  # Replace with your actual input JSON file name\n",
    "output_file = './data_dpo/vietnamese_naturalqa_10k_11k.jsonl'\n",
    "\n",
    "# System message to be used in all entries\n",
    "system_content = \"Bạn là một trợ lý thông minh. Hãy thực hiện các yêu cầu hoặc trả lời câu hỏi một cách tốt nhất có thể.\"\n",
    "\n",
    "try:\n",
    "    # Load the JSON file\n",
    "    with open(input_file, 'r', encoding='utf-8') as json_file:\n",
    "        input_data = json.load(json_file)\n",
    "    \n",
    "    # Open the output JSONL file\n",
    "    with open(output_file, 'w', encoding='utf-8') as outfile:\n",
    "        for item in input_data:\n",
    "            # Create the transformed structure\n",
    "            transformed = {\n",
    "                \"messages\": [\n",
    "                    {\"role\": \"system\", \"content\": system_content},\n",
    "                    {\"role\": \"user\", \"content\": item[\"vi_question\"]},\n",
    "                    {\"role\": \"assistant\", \"content\": item[\"vi_answer\"]}\n",
    "                ]\n",
    "            }\n",
    "            \n",
    "            # Write each transformed item as a JSON line\n",
    "            json.dump(transformed, outfile, ensure_ascii=False)\n",
    "            outfile.write('\\n')\n",
    "    \n",
    "    print(f\"Transformation complete. Data saved to '{output_file}'\")\n",
    "\n",
    "except FileNotFoundError:\n",
    "    print(f\"Error: Input file '{input_file}' not found.\")\n",
    "except json.JSONDecodeError as e:\n",
    "    print(f\"JSON parsing error: {e}\")\n",
    "    with open(input_file, 'r', encoding='utf-8') as json_file:\n",
    "        content = json_file.read()\n",
    "        print(\"Raw file content:\", content)\n",
    "except Exception as e:\n",
    "    print(f\"An unexpected error occurred: {e}\")"
   ]
  },
  {
   "cell_type": "code",
   "execution_count": 10,
   "metadata": {},
   "outputs": [
    {
     "name": "stdout",
     "output_type": "stream",
     "text": [
      "Transformation complete. Data saved to './data_dpo/Vietnamese-Openorca-Multiplechoice_10k_11k.jsonl'\n"
     ]
    }
   ],
   "source": [
    "import json\n",
    "\n",
    "# Input and output file names\n",
    "input_file = './data_dpo/Vietnamese-Openorca-Multiplechoice_10k_11k.json'  # Replace with your actual input JSON file name\n",
    "output_file = './data_dpo/Vietnamese-Openorca-Multiplechoice_10k_11k.jsonl'\n",
    "\n",
    "# System message to be used in all entries\n",
    "system_content = \"Bạn là một trợ lý thông minh. Hãy thực hiện các yêu cầu hoặc trả lời câu hỏi một cách tốt nhất có thể.\"\n",
    "\n",
    "try:\n",
    "    # Load the JSON file\n",
    "    with open(input_file, 'r', encoding='utf-8') as json_file:\n",
    "        input_data = json.load(json_file)\n",
    "    \n",
    "    # Open the output JSONL file\n",
    "    with open(output_file, 'w', encoding='utf-8') as outfile:\n",
    "        for item in input_data:\n",
    "            # Create the transformed structure\n",
    "            transformed = {\n",
    "                \"messages\": [\n",
    "                    {\"role\": \"system\", \"content\": system_content},\n",
    "                    {\"role\": \"user\", \"content\": item[\"question_vi\"]},\n",
    "                    {\"role\": \"assistant\", \"content\": item[\"response_vi\"]}\n",
    "                ]\n",
    "            }\n",
    "            \n",
    "            # Write each transformed item as a JSON line\n",
    "            json.dump(transformed, outfile, ensure_ascii=False)\n",
    "            outfile.write('\\n')\n",
    "    \n",
    "    print(f\"Transformation complete. Data saved to '{output_file}'\")\n",
    "\n",
    "except FileNotFoundError:\n",
    "    print(f\"Error: Input file '{input_file}' not found.\")\n",
    "except json.JSONDecodeError as e:\n",
    "    print(f\"JSON parsing error: {e}\")\n",
    "    with open(input_file, 'r', encoding='utf-8') as json_file:\n",
    "        content = json_file.read()\n",
    "        print(\"Raw file content:\", content)\n",
    "except Exception as e:\n",
    "    print(f\"An unexpected error occurred: {e}\")"
   ]
  },
  {
   "cell_type": "code",
   "execution_count": 11,
   "metadata": {},
   "outputs": [
    {
     "name": "stdout",
     "output_type": "stream",
     "text": [
      "Transformation complete. Data saved to './data_dpo/vietnamese_orca-math_10k_11k.jsonl'\n"
     ]
    }
   ],
   "source": [
    "import json\n",
    "\n",
    "# Input and output file names\n",
    "input_file = './data_dpo/vietnamese_orca-math_10k_11k.json'  # Replace with your actual input JSON file name\n",
    "output_file = './data_dpo/vietnamese_orca-math_10k_11k.jsonl'\n",
    "\n",
    "# System message to be used in all entries\n",
    "system_content = \"Bạn là một trợ lý thông minh. Hãy thực hiện các yêu cầu hoặc trả lời câu hỏi một cách tốt nhất có thể.\"\n",
    "\n",
    "try:\n",
    "    # Load the JSON file\n",
    "    with open(input_file, 'r', encoding='utf-8') as json_file:\n",
    "        input_data = json.load(json_file)\n",
    "    \n",
    "    # Open the output JSONL file\n",
    "    with open(output_file, 'w', encoding='utf-8') as outfile:\n",
    "        for item in input_data:\n",
    "            # Create the transformed structure\n",
    "            transformed = {\n",
    "                \"messages\": [\n",
    "                    {\"role\": \"system\", \"content\": system_content},\n",
    "                    {\"role\": \"user\", \"content\": item[\"question_vi\"]},\n",
    "                    {\"role\": \"assistant\", \"content\": item[\"answer_vi\"]}\n",
    "                ]\n",
    "            }\n",
    "            \n",
    "            # Write each transformed item as a JSON line\n",
    "            json.dump(transformed, outfile, ensure_ascii=False)\n",
    "            outfile.write('\\n')\n",
    "    \n",
    "    print(f\"Transformation complete. Data saved to '{output_file}'\")\n",
    "\n",
    "except FileNotFoundError:\n",
    "    print(f\"Error: Input file '{input_file}' not found.\")\n",
    "except json.JSONDecodeError as e:\n",
    "    print(f\"JSON parsing error: {e}\")\n",
    "    with open(input_file, 'r', encoding='utf-8') as json_file:\n",
    "        content = json_file.read()\n",
    "        print(\"Raw file content:\", content)\n",
    "except Exception as e:\n",
    "    print(f\"An unexpected error occurred: {e}\")"
   ]
  },
  {
   "cell_type": "code",
   "execution_count": null,
   "metadata": {},
   "outputs": [],
   "source": []
  },
  {
   "cell_type": "code",
   "execution_count": 16,
   "metadata": {},
   "outputs": [
    {
     "name": "stdout",
     "output_type": "stream",
     "text": [
      "Processing complete. Results written to /root/Qwen-2.5-0.5B-vn/data_dpo/vietnamese_naturalqa_10k_11k_dpo.jsonl\n"
     ]
    }
   ],
   "source": [
    "from transformers import AutoModelForCausalLM, AutoTokenizer\n",
    "import torch\n",
    "import json\n",
    "\n",
    "# Your existing model setup\n",
    "model_name = \"tadkt/Qwen-2.5-0.5B-VN\"\n",
    "model = AutoModelForCausalLM.from_pretrained(\n",
    "    model_name,\n",
    "    torch_dtype=\"auto\",\n",
    "    device_map=\"auto\"\n",
    ")\n",
    "tokenizer = AutoTokenizer.from_pretrained(model_name, trust_remote_code=True)\n",
    "\n",
    "# Your existing generate_response function\n",
    "def generate_response(question):\n",
    "    messages = [\n",
    "        {\"role\": \"system\", \"content\": \"Bạn là một trợ lý AI thông minh và hữu ích. Hãy cung cấp câu trả lời chính xác, rõ ràng và dễ hiểu.\"},\n",
    "        {\"role\": \"user\", \"content\": question}\n",
    "    ]\n",
    "    text = tokenizer.apply_chat_template(\n",
    "        messages,\n",
    "        tokenize=False,\n",
    "        add_generation_prompt=True\n",
    "    )\n",
    "    model_inputs = tokenizer([text], return_token_type_ids=False, return_tensors=\"pt\").to(model.device)\n",
    "    \n",
    "    generated_ids = model.generate(\n",
    "        **model_inputs,\n",
    "        max_new_tokens=512\n",
    "    )\n",
    "    full_output = tokenizer.decode(generated_ids[0], skip_special_tokens=False)\n",
    "    input_text_length = len(text)\n",
    "    response_start = full_output.find(text) + input_text_length\n",
    "    response = full_output[response_start:].split(\"<|im_end|>\")[0]\n",
    "    return response\n",
    "\n",
    "# Function to process JSONL file\n",
    "def process_jsonl(input_file, output_file):\n",
    "    # Store all processed lines\n",
    "    processed_lines = []\n",
    "    \n",
    "    # Read the JSONL file\n",
    "    with open(input_file, 'r', encoding='utf-8') as f:\n",
    "        for line in f:\n",
    "            # Parse each JSON line\n",
    "            data = json.loads(line.strip())\n",
    "            \n",
    "            # Extract question from user's content\n",
    "            question = None\n",
    "            for message in data[\"messages\"]:\n",
    "                if message[\"role\"] == \"user\":\n",
    "                    question = message[\"content\"]\n",
    "                    break\n",
    "            \n",
    "            if question:\n",
    "                # Generate response\n",
    "                generated_response = generate_response(question)\n",
    "                \n",
    "                # Add rejected_response to the original data\n",
    "                data[\"rejected_response\"] = generated_response\n",
    "                processed_lines.append(data)\n",
    "    \n",
    "    # Write to new JSONL file\n",
    "    with open(output_file, 'w', encoding='utf-8') as f:\n",
    "        for item in processed_lines:\n",
    "            f.write(json.dumps(item, ensure_ascii=False) + '\\n')\n",
    "\n",
    "# Usage\n",
    "input_file = \"/root/Qwen-2.5-0.5B-vn/data_dpo/vietnamese_naturalqa_10k_11k.jsonl\"  # Replace with your input file path\n",
    "output_file = \"/root/Qwen-2.5-0.5B-vn/data_dpo/vietnamese_naturalqa_10k_11k_dpo.jsonl\"  # Replace with desired output file path\n",
    "process_jsonl(input_file, output_file)\n",
    "\n",
    "print(f\"Processing complete. Results written to {output_file}\")"
   ]
  },
  {
   "cell_type": "code",
   "execution_count": null,
   "metadata": {},
   "outputs": [],
   "source": []
  }
 ],
 "metadata": {
  "kernelspec": {
   "display_name": "qwen",
   "language": "python",
   "name": "python3"
  },
  "language_info": {
   "codemirror_mode": {
    "name": "ipython",
    "version": 3
   },
   "file_extension": ".py",
   "mimetype": "text/x-python",
   "name": "python",
   "nbconvert_exporter": "python",
   "pygments_lexer": "ipython3",
   "version": "3.13.2"
  }
 },
 "nbformat": 4,
 "nbformat_minor": 2
}
